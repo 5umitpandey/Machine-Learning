{
 "cells": [
  {
   "cell_type": "markdown",
   "id": "845b4927-2f52-4f0c-8e3e-f9e08f64bdd6",
   "metadata": {},
   "source": [
    "## About Numpy- Numeric python ( Python Library to work for array)\n"
   ]
  },
  {
   "cell_type": "markdown",
   "id": "2c38c648-2ad2-48b4-8844-cd465d9de8b6",
   "metadata": {
    "tags": []
   },
   "source": [
    "# NumPy (Numerical Python)\n",
    "1. NumPy is the fundamental package for scientific computing in Python.\n",
    "2. It is a Python library that provides a multidimensional array object, various derived objects such as matrices etc.\n",
    "3. An assortment of routines for fast operations on arrays, including mathematical, logical, shape manipulation, sorting, selecting,  basic linear algebra, basic statistical operations, and many more.\n",
    "4. At the core of the NumPy package, is the ndarray object. This encapsulates n-dimensional arrays of homogeneous data types, with many operations being performed in compiled code for performance. "
   ]
  },
  {
   "cell_type": "markdown",
   "id": "f5c1e4a8-dc01-4e89-bf8a-aa7c39901b3b",
   "metadata": {},
   "source": [
    "## NumPy Array vs. Python Sequences\n",
    "\n",
    "NumPy arrays have a fixed size at creation, NumPy arrays facilitate advanced mathematical and other types of operations on large numbers of data. Typically, such operations are executed more efficiently and with less code than is possible using Python’s built-in sequences."
   ]
  },
  {
   "cell_type": "markdown",
   "id": "f45e63be-a4a5-4e30-977b-79b1502e2b79",
   "metadata": {},
   "source": [
    "## Installing and Importing NumPy\n",
    "\n",
    "If we use pip, we can install NumPy as : pip install numpy\n",
    "Once the package has been installed, it need to be imported."
   ]
  },
  {
   "cell_type": "code",
   "execution_count": 1,
   "id": "fcf83d0b-4de9-41b3-862b-1e67922c1295",
   "metadata": {},
   "outputs": [],
   "source": [
    "#pip install numpy\n",
    "import numpy as np"
   ]
  },
  {
   "cell_type": "markdown",
   "id": "62a5cf17-5e1a-4589-a3e6-04478992fce8",
   "metadata": {},
   "source": [
    "###Sum of two lists ( here it is concatenation only)"
   ]
  },
  {
   "cell_type": "code",
   "execution_count": 16,
   "id": "c7b8c86f-5a00-4983-8c7f-b81006faefdd",
   "metadata": {},
   "outputs": [
    {
     "name": "stdout",
     "output_type": "stream",
     "text": [
      "[1, 2, 3, 4, 5, 10, 20, 30, 40, 50]\n"
     ]
    }
   ],
   "source": [
    "a = [1,2,3,4,5]\n",
    "b = [10,20,30,40,50]\n",
    "c = a + b\n",
    "print(c)"
   ]
  },
  {
   "cell_type": "markdown",
   "id": "936ca513-9297-44e7-9423-1e39e4dd79a4",
   "metadata": {},
   "source": [
    "### Array\n",
    "* Group of homogenous data\n",
    "* It can be multidimentional"
   ]
  },
  {
   "cell_type": "markdown",
   "id": "fc1a0c8d-e618-4aaf-bc0a-1748868a4e71",
   "metadata": {},
   "source": [
    "### Sum of two array ( Here + means calculation)"
   ]
  },
  {
   "cell_type": "code",
   "execution_count": 6,
   "id": "0718d0f8-c8eb-4770-85f9-ea88e811209f",
   "metadata": {},
   "outputs": [
    {
     "name": "stdout",
     "output_type": "stream",
     "text": [
      "[13 22 33 44 55]\n",
      "[1 2 3 4 5]\n"
     ]
    }
   ],
   "source": [
    "a = np.array([1,2,3,4,5])\n",
    "b = np.array([12,20,30,40,50])\n",
    "c = a + b\n",
    "print(c)\n",
    "print(a)"
   ]
  },
  {
   "cell_type": "code",
   "execution_count": 7,
   "id": "7600e66a-23bd-4784-b6a8-640d6a74b42b",
   "metadata": {},
   "outputs": [
    {
     "name": "stdout",
     "output_type": "stream",
     "text": [
      "[130 140 150 160 170]\n"
     ]
    }
   ],
   "source": [
    "b = np.array([10,20,30,40,50])\n",
    "c = b+120\n",
    "print(c)"
   ]
  },
  {
   "cell_type": "code",
   "execution_count": 8,
   "id": "bbb9972a-465c-4ada-a12e-6a9c98ea7481",
   "metadata": {},
   "outputs": [
    {
     "name": "stdout",
     "output_type": "stream",
     "text": [
      "[[ 1  2  3  4  5  6  7  8  9 10]]\n"
     ]
    }
   ],
   "source": [
    "a1 = np.array([1.,2.,3.,4.,5.,6.,7.,8.,9.,10.])\n",
    "a2 = np.array([[1,2,3,4,5,6,7,8,9,10]]) # this is 2 D, list of list\n",
    "a3 = np.array([[1,2,3,4,5,6,7,8,9,10],[1,2,3,4,5,6,7,8,9,10],[1,2,3,4,5,6,7,8,9,10]])# three lists ( 2D array with 3 elements)\n",
    "a4 = np.array([[[1,2,3,4,5,6,7,8,9,10],[1,2,3,4,5,6,7,8,9,10],[1,2,3,4,5,6,7,8,9,10]]])\n",
    "a5 = np.array([[[1,2,3,4,5,6,7,8,9,10],[1,2,3,4,5,6,7,8,9,10],[1,2,3,4,5,6,7,8,9,10]],\n",
    "              [[1,2,3,4,5,6,7,8,9,10],[1,2,3,4,5,6,7,8,9,10],[1,2,3,4,5,6,7,8,9,10]]])\n",
    "print(a2)"
   ]
  },
  {
   "cell_type": "code",
   "execution_count": 9,
   "id": "60f7a09e",
   "metadata": {},
   "outputs": [
    {
     "name": "stdout",
     "output_type": "stream",
     "text": [
      "[ 1.  2.  3.  4.  5.  6.  7.  8.  9. 10.]\n"
     ]
    }
   ],
   "source": [
    "print(a1)"
   ]
  },
  {
   "cell_type": "code",
   "execution_count": 10,
   "id": "8f6c1381",
   "metadata": {},
   "outputs": [
    {
     "name": "stdout",
     "output_type": "stream",
     "text": [
      "[[[ 1  2  3  4  5  6  7  8  9 10]\n",
      "  [ 1  2  3  4  5  6  7  8  9 10]\n",
      "  [ 1  2  3  4  5  6  7  8  9 10]]\n",
      "\n",
      " [[ 1  2  3  4  5  6  7  8  9 10]\n",
      "  [ 1  2  3  4  5  6  7  8  9 10]\n",
      "  [ 1  2  3  4  5  6  7  8  9 10]]]\n"
     ]
    }
   ],
   "source": [
    "print(a5)"
   ]
  },
  {
   "cell_type": "markdown",
   "id": "44683b4f-d40d-41a0-afe3-fc2a796264e3",
   "metadata": {},
   "source": [
    "## No of brackets tells about dimension"
   ]
  },
  {
   "cell_type": "code",
   "execution_count": 11,
   "id": "ddcff669-bd3f-4830-baf5-ea786951df8c",
   "metadata": {},
   "outputs": [
    {
     "name": "stdout",
     "output_type": "stream",
     "text": [
      "10\n",
      "1\n",
      "3\n",
      "1\n",
      "2\n"
     ]
    }
   ],
   "source": [
    "print(len(a1))\n",
    "print(len(a2))\n",
    "print(len(a3))\n",
    "print(len(a4))\n",
    "print(len(a5))"
   ]
  },
  {
   "cell_type": "markdown",
   "id": "334e08a6-b718-45ce-a764-8b5b8479f731",
   "metadata": {},
   "source": [
    "### Check the above output|"
   ]
  },
  {
   "cell_type": "markdown",
   "id": "ab7f481d-fb7a-4a6a-b260-9a6600957551",
   "metadata": {},
   "source": [
    "#### length of 2d array = no of 1d array\n",
    "#### length of 3d array = no of 2d array"
   ]
  },
  {
   "cell_type": "markdown",
   "id": "73fdcbcf-09ba-4a9f-9da6-209477baaac4",
   "metadata": {},
   "source": [
    "# Attributes of Array"
   ]
  },
  {
   "cell_type": "code",
   "execution_count": 12,
   "id": "e9beffbf-2a34-478e-b4bc-bd0202b61947",
   "metadata": {},
   "outputs": [
    {
     "name": "stdout",
     "output_type": "stream",
     "text": [
      "(10,)\n",
      "(1, 10)\n",
      "(3, 10)\n",
      "(1, 3, 10)\n",
      "(2, 3, 10)\n"
     ]
    }
   ],
   "source": [
    "print(a1.shape)\n",
    "print(a2.shape)\n",
    "print(a3.shape)\n",
    "print(a4.shape) # one (3 x 10) Two dimensional array with 3 rows and 10 columns\n",
    "print(a5.shape) # two (3 x 10) Two dimensional array with 3 rows and 10 columns"
   ]
  },
  {
   "cell_type": "code",
   "execution_count": 13,
   "id": "d62062cf-8824-4000-bb88-cbca732a57dd",
   "metadata": {},
   "outputs": [
    {
     "name": "stdout",
     "output_type": "stream",
     "text": [
      "1\n",
      "2\n",
      "2\n",
      "3\n",
      "3\n"
     ]
    }
   ],
   "source": [
    "print(a1.ndim)\n",
    "print(a2.ndim)\n",
    "print(a3.ndim)\n",
    "print(a4.ndim)\n",
    "print(a5.ndim)"
   ]
  },
  {
   "cell_type": "markdown",
   "id": "67d3c12e-30ba-41e6-a73e-7c054105c125",
   "metadata": {},
   "source": [
    "### dtype gives the data type"
   ]
  },
  {
   "cell_type": "code",
   "execution_count": 14,
   "id": "b29e2d49-e518-4801-b0da-d7ff787aadc3",
   "metadata": {},
   "outputs": [
    {
     "name": "stdout",
     "output_type": "stream",
     "text": [
      "float64\n",
      "int32\n",
      "int32\n",
      "int32\n",
      "int32\n"
     ]
    }
   ],
   "source": [
    "print(a1.dtype)\n",
    "print(a2.dtype)\n",
    "print(a3.dtype)\n",
    "print(a4.dtype)\n",
    "print(a5.dtype)"
   ]
  },
  {
   "cell_type": "markdown",
   "id": "f8ed1871-af87-4a29-af3e-33aefac32397",
   "metadata": {},
   "source": [
    "#### Slicing of array"
   ]
  },
  {
   "cell_type": "markdown",
   "id": "401009fa-8350-4bed-b6d5-fbb7decedc76",
   "metadata": {},
   "source": [
    "# a[:, :]  # rows and column"
   ]
  },
  {
   "cell_type": "code",
   "execution_count": 15,
   "id": "0971e4b2-c359-4dbe-851c-229b5a338586",
   "metadata": {},
   "outputs": [
    {
     "data": {
      "text/plain": [
       "array([[30, 96, 56, 33, 49, 43, 38, 91, 54, 24],\n",
       "       [62, 32, 71, 91, 37, 50, 98, 47, 61, 36],\n",
       "       [92, 71, 96,  7, 93, 18, 50, 59, 79, 17],\n",
       "       [59, 37, 16, 62, 92, 67, 12, 22, 15, 93],\n",
       "       [ 4,  3, 14, 40, 62, 45, 23, 14, 17, 91],\n",
       "       [67, 94,  6, 83, 20, 16, 15,  5, 71, 78],\n",
       "       [53,  2, 20, 40, 46, 58, 12, 69, 47, 73],\n",
       "       [27, 59, 19, 42,  7, 98, 17, 82, 29, 52],\n",
       "       [67, 36,  1, 22, 14, 27, 42, 73, 45, 62],\n",
       "       [60, 43, 93, 96,  5, 19,  2, 98, 19, 31]])"
      ]
     },
     "execution_count": 15,
     "metadata": {},
     "output_type": "execute_result"
    }
   ],
   "source": [
    "#np.random.seed(1)\n",
    "x=np.random.randint(1,100,(10,10))\n",
    "x"
   ]
  },
  {
   "cell_type": "code",
   "execution_count": 16,
   "id": "1aba9392-3f31-4cce-a0c4-12f4caffa80d",
   "metadata": {
    "scrolled": true
   },
   "outputs": [
    {
     "data": {
      "text/plain": [
       "array([[30, 96, 56, 33, 49, 43, 38, 91, 54, 24],\n",
       "       [62, 32, 71, 91, 37, 50, 98, 47, 61, 36],\n",
       "       [92, 71, 96,  7, 93, 18, 50, 59, 79, 17],\n",
       "       [59, 37, 16, 62, 92, 67, 12, 22, 15, 93],\n",
       "       [ 4,  3, 14, 40, 62, 45, 23, 14, 17, 91],\n",
       "       [67, 94,  6, 83, 20, 16, 15,  5, 71, 78],\n",
       "       [53,  2, 20, 40, 46, 58, 12, 69, 47, 73],\n",
       "       [27, 59, 19, 42,  7, 98, 17, 82, 29, 52],\n",
       "       [67, 36,  1, 22, 14, 27, 42, 73, 45, 62],\n",
       "       [60, 43, 93, 96,  5, 19,  2, 98, 19, 31]])"
      ]
     },
     "execution_count": 16,
     "metadata": {},
     "output_type": "execute_result"
    }
   ],
   "source": [
    "x[:,:]"
   ]
  },
  {
   "cell_type": "code",
   "execution_count": 17,
   "id": "110390c3",
   "metadata": {},
   "outputs": [
    {
     "name": "stdout",
     "output_type": "stream",
     "text": [
      "2\n"
     ]
    }
   ],
   "source": [
    "print(x.ndim)"
   ]
  },
  {
   "cell_type": "code",
   "execution_count": 18,
   "id": "d296b505",
   "metadata": {},
   "outputs": [
    {
     "name": "stdout",
     "output_type": "stream",
     "text": [
      "(10, 10)\n"
     ]
    }
   ],
   "source": [
    "print(x.shape)"
   ]
  },
  {
   "cell_type": "code",
   "execution_count": 19,
   "id": "d99c9c98-19ad-4663-acef-86f2e3bcba40",
   "metadata": {},
   "outputs": [
    {
     "data": {
      "text/plain": [
       "array([[49, 43, 38, 91],\n",
       "       [37, 50, 98, 47],\n",
       "       [93, 18, 50, 59],\n",
       "       [92, 67, 12, 22],\n",
       "       [62, 45, 23, 14],\n",
       "       [20, 16, 15,  5],\n",
       "       [46, 58, 12, 69],\n",
       "       [ 7, 98, 17, 82],\n",
       "       [14, 27, 42, 73],\n",
       "       [ 5, 19,  2, 98]])"
      ]
     },
     "execution_count": 19,
     "metadata": {},
     "output_type": "execute_result"
    }
   ],
   "source": [
    "x[:, 4:8]"
   ]
  },
  {
   "cell_type": "code",
   "execution_count": 20,
   "id": "97bdaa97-8507-4d8c-a8bc-62d283c3b666",
   "metadata": {},
   "outputs": [
    {
     "data": {
      "text/plain": [
       "37"
      ]
     },
     "execution_count": 20,
     "metadata": {},
     "output_type": "execute_result"
    }
   ],
   "source": [
    "x[1,4]"
   ]
  },
  {
   "cell_type": "code",
   "execution_count": 21,
   "id": "cf7270f3-5c5c-44aa-b7aa-a93c37a68d69",
   "metadata": {},
   "outputs": [
    {
     "data": {
      "text/plain": [
       "array([[59, 37, 16, 62, 92, 67, 12, 22, 15, 93],\n",
       "       [ 4,  3, 14, 40, 62, 45, 23, 14, 17, 91],\n",
       "       [67, 94,  6, 83, 20, 16, 15,  5, 71, 78]])"
      ]
     },
     "execution_count": 21,
     "metadata": {},
     "output_type": "execute_result"
    }
   ],
   "source": [
    "x[3:6,:]"
   ]
  },
  {
   "cell_type": "code",
   "execution_count": 36,
   "id": "bd71c19c-5b5c-4b7e-ad2a-65c172b73254",
   "metadata": {},
   "outputs": [
    {
     "data": {
      "text/plain": [
       "array([[21, 49, 23, 14, 98, 54, 85, 11, 97, 56],\n",
       "       [62, 57, 90, 22, 97, 84, 26, 15, 14, 85],\n",
       "       [44,  7, 78, 57, 60, 16, 25, 10, 67, 72],\n",
       "       [54, 70, 37, 22, 41, 78, 92, 50, 48, 78]])"
      ]
     },
     "execution_count": 36,
     "metadata": {},
     "output_type": "execute_result"
    }
   ],
   "source": [
    "x[6:,:]"
   ]
  },
  {
   "cell_type": "code",
   "execution_count": 22,
   "id": "1ed110e1-5f6e-41a3-b530-389b69807297",
   "metadata": {},
   "outputs": [
    {
     "data": {
      "text/plain": [
       "37"
      ]
     },
     "execution_count": 22,
     "metadata": {},
     "output_type": "execute_result"
    }
   ],
   "source": [
    "x[1][4]"
   ]
  },
  {
   "cell_type": "markdown",
   "id": "440bc94e-4608-4ed3-ad49-d8e9d8f06392",
   "metadata": {},
   "source": [
    "#### Array Functions / Methods"
   ]
  },
  {
   "cell_type": "code",
   "execution_count": 23,
   "id": "c4ebdd4f-a3a6-4290-82f6-db4b8dea86ba",
   "metadata": {},
   "outputs": [
    {
     "data": {
      "text/plain": [
       "array([[95, 59, 63, 28, 90, 32],\n",
       "       [ 5, 73, 68, 63, 51, 87],\n",
       "       [48, 11, 59, 46, 29, 34],\n",
       "       [19, 26, 97, 59,  4, 51],\n",
       "       [76,  6, 49, 54, 96, 37]])"
      ]
     },
     "execution_count": 23,
     "metadata": {},
     "output_type": "execute_result"
    }
   ],
   "source": [
    "#np.random.seed(2)\n",
    "x=np.random.randint(1,100,(5,6))\n",
    "x"
   ]
  },
  {
   "cell_type": "code",
   "execution_count": 24,
   "id": "f9472698-d59a-4a4f-9584-16cb78427e88",
   "metadata": {},
   "outputs": [
    {
     "name": "stdout",
     "output_type": "stream",
     "text": [
      "1515\n",
      "[243 175 336 250 270 241]\n",
      "[367 347 227 256 318]\n"
     ]
    }
   ],
   "source": [
    "print(x.sum())\n",
    "print(x.sum(axis=0))  ### column wise sum\n",
    "print(x.sum(axis=1))   ## row wise sum"
   ]
  },
  {
   "cell_type": "code",
   "execution_count": 25,
   "id": "7b993354-e3ac-4625-8618-5d7de2ae53b1",
   "metadata": {},
   "outputs": [
    {
     "name": "stdout",
     "output_type": "stream",
     "text": [
      "50.5\n",
      "[48.6 35.  67.2 50.  54.  48.2]\n",
      "[61.16666667 57.83333333 37.83333333 42.66666667 53.        ]\n"
     ]
    }
   ],
   "source": [
    "print(x.mean())\n",
    "print(x.mean(axis=0)) \n",
    "print(x.mean(axis=1))"
   ]
  },
  {
   "cell_type": "code",
   "execution_count": 26,
   "id": "61e8d7bc-3653-4fde-b9a1-9f1ce7ca87ee",
   "metadata": {},
   "outputs": [
    {
     "name": "stdout",
     "output_type": "stream",
     "text": [
      "4\n",
      "[ 5  6 49 28  4 32]\n",
      "[28  5 11  4  6]\n"
     ]
    }
   ],
   "source": [
    "print(x.min())\n",
    "print(x.min(axis=0)) \n",
    "print(x.min(axis=1))"
   ]
  },
  {
   "cell_type": "code",
   "execution_count": 27,
   "id": "182f0bd7-5a6e-451d-b14f-2822f58ae806",
   "metadata": {},
   "outputs": [
    {
     "name": "stdout",
     "output_type": "stream",
     "text": [
      "97\n",
      "[95 73 97 63 96 87]\n",
      "[95 87 59 97 96]\n"
     ]
    }
   ],
   "source": [
    "print(x.max())\n",
    "print(x.max(axis=0)) \n",
    "print(x.max(axis=1))"
   ]
  },
  {
   "cell_type": "code",
   "execution_count": 29,
   "id": "ac5e1e0f-eaea-43c4-8eb1-9ddee8f4eeb5",
   "metadata": {},
   "outputs": [
    {
     "name": "stdout",
     "output_type": "stream",
     "text": [
      "20\n",
      "[0 1 3 1 4 1]\n",
      "[0 5 2 2 4]\n"
     ]
    }
   ],
   "source": [
    "print(x.argmax())\n",
    "print(x.argmax(axis=0)) \n",
    "print(x.argmax(axis=1))"
   ]
  },
  {
   "cell_type": "markdown",
   "id": "ca51cbbb-d8b5-4aa2-86f6-3fdaf190fbd2",
   "metadata": {},
   "source": [
    "## what is this output"
   ]
  },
  {
   "cell_type": "code",
   "execution_count": 31,
   "id": "618ef306-508f-4112-8f1c-0fe79c384db6",
   "metadata": {},
   "outputs": [
    {
     "data": {
      "text/plain": [
       "array([[95, 59, 63, 28, 90, 32],\n",
       "       [ 5, 73, 68, 63, 51, 87],\n",
       "       [48, 11, 59, 46, 29, 34],\n",
       "       [19, 26, 97, 59,  4, 51],\n",
       "       [76,  6, 49, 54, 96, 37]])"
      ]
     },
     "execution_count": 31,
     "metadata": {},
     "output_type": "execute_result"
    }
   ],
   "source": [
    "x"
   ]
  },
  {
   "cell_type": "code",
   "execution_count": 32,
   "id": "8a83e946-c956-4436-87b6-779cfc8ebad2",
   "metadata": {},
   "outputs": [
    {
     "name": "stdout",
     "output_type": "stream",
     "text": [
      "22\n",
      "[1 4 4 0 3 0]\n",
      "[3 0 1 4 1]\n"
     ]
    }
   ],
   "source": [
    "print(x.argmin())\n",
    "print(x.argmin(axis=0)) \n",
    "print(x.argmin(axis=1))"
   ]
  },
  {
   "cell_type": "code",
   "execution_count": 33,
   "id": "55dbdd5b-6b85-41c5-9085-470aafb9e799",
   "metadata": {},
   "outputs": [
    {
     "data": {
      "text/plain": [
       "array([[95., 59., 63., 28., 90., 32.],\n",
       "       [ 5., 73., 68., 63., 51., 87.],\n",
       "       [48., 11., 59., 46., 29., 34.],\n",
       "       [19., 26., 97., 59.,  4., 51.],\n",
       "       [76.,  6., 49., 54., 96., 37.]])"
      ]
     },
     "execution_count": 33,
     "metadata": {},
     "output_type": "execute_result"
    }
   ],
   "source": [
    "x_1 = x.astype('float')\n",
    "x_1"
   ]
  },
  {
   "cell_type": "code",
   "execution_count": 34,
   "id": "7c607812-32f6-4885-8fd8-7e402e880787",
   "metadata": {},
   "outputs": [
    {
     "data": {
      "text/plain": [
       "array([[95.+0.j, 59.+0.j, 63.+0.j, 28.+0.j, 90.+0.j, 32.+0.j],\n",
       "       [ 5.+0.j, 73.+0.j, 68.+0.j, 63.+0.j, 51.+0.j, 87.+0.j],\n",
       "       [48.+0.j, 11.+0.j, 59.+0.j, 46.+0.j, 29.+0.j, 34.+0.j],\n",
       "       [19.+0.j, 26.+0.j, 97.+0.j, 59.+0.j,  4.+0.j, 51.+0.j],\n",
       "       [76.+0.j,  6.+0.j, 49.+0.j, 54.+0.j, 96.+0.j, 37.+0.j]])"
      ]
     },
     "execution_count": 34,
     "metadata": {},
     "output_type": "execute_result"
    }
   ],
   "source": [
    "x_1 = x.astype('complex')\n",
    "x_1"
   ]
  },
  {
   "cell_type": "code",
   "execution_count": 35,
   "id": "c6e39e18-0a4d-4d34-a0b1-82cdbc0daa4c",
   "metadata": {},
   "outputs": [
    {
     "data": {
      "text/plain": [
       "(5, 6)"
      ]
     },
     "execution_count": 35,
     "metadata": {},
     "output_type": "execute_result"
    }
   ],
   "source": [
    "x.shape"
   ]
  },
  {
   "cell_type": "code",
   "execution_count": 38,
   "id": "47220548",
   "metadata": {},
   "outputs": [
    {
     "data": {
      "text/plain": [
       "array([[95, 59, 63, 28, 90, 32],\n",
       "       [ 5, 73, 68, 63, 51, 87],\n",
       "       [48, 11, 59, 46, 29, 34],\n",
       "       [19, 26, 97, 59,  4, 51],\n",
       "       [76,  6, 49, 54, 96, 37]])"
      ]
     },
     "execution_count": 38,
     "metadata": {},
     "output_type": "execute_result"
    }
   ],
   "source": [
    "x"
   ]
  },
  {
   "cell_type": "markdown",
   "id": "b0dbdcee-c476-4c18-8e63-90a645fa3675",
   "metadata": {},
   "source": [
    "## Reshaping ( currently x is 5 x 6)"
   ]
  },
  {
   "cell_type": "code",
   "execution_count": 43,
   "id": "1de181c6-d358-4f7f-8b5e-1eda1c5557db",
   "metadata": {},
   "outputs": [
    {
     "ename": "ValueError",
     "evalue": "cannot reshape array of size 30 into shape (10,4)",
     "output_type": "error",
     "traceback": [
      "\u001b[1;31m---------------------------------------------------------------------------\u001b[0m",
      "\u001b[1;31mValueError\u001b[0m                                Traceback (most recent call last)",
      "Cell \u001b[1;32mIn [43], line 2\u001b[0m\n\u001b[0;32m      1\u001b[0m x_1 \u001b[38;5;241m=\u001b[39m x\u001b[38;5;241m.\u001b[39mreshape(\u001b[38;5;241m30\u001b[39m)\n\u001b[1;32m----> 2\u001b[0m x_2 \u001b[38;5;241m=\u001b[39m \u001b[43mx\u001b[49m\u001b[38;5;241;43m.\u001b[39;49m\u001b[43mreshape\u001b[49m\u001b[43m(\u001b[49m\u001b[43m(\u001b[49m\u001b[38;5;241;43m10\u001b[39;49m\u001b[43m,\u001b[49m\u001b[38;5;241;43m4\u001b[39;49m\u001b[43m)\u001b[49m\u001b[43m)\u001b[49m    \u001b[38;5;66;03m## 6,5 | 1,30 | 30,1 | 2,15 | 15,2 | 10,3 | 3,10\u001b[39;00m\n\u001b[0;32m      3\u001b[0m x_3 \u001b[38;5;241m=\u001b[39m x\u001b[38;5;241m.\u001b[39mreshape([\u001b[38;5;241m5\u001b[39m,\u001b[38;5;241m2\u001b[39m,\u001b[38;5;241m3\u001b[39m])\n",
      "\u001b[1;31mValueError\u001b[0m: cannot reshape array of size 30 into shape (10,4)"
     ]
    }
   ],
   "source": [
    "x_1 = x.reshape(30)\n",
    "x_2 = x.reshape((10,3))    ## 6,5 | 1,30 | 30,1 | 2,15 | 15,2 | 10,3 | 3,10\n",
    "x_3 = x.reshape([5,2,3])"
   ]
  },
  {
   "cell_type": "code",
   "execution_count": 40,
   "id": "169cc735-b968-4f1c-bc96-877433faafef",
   "metadata": {},
   "outputs": [
    {
     "data": {
      "text/plain": [
       "array([95, 59, 63, 28, 90, 32,  5, 73, 68, 63, 51, 87, 48, 11, 59, 46, 29,\n",
       "       34, 19, 26, 97, 59,  4, 51, 76,  6, 49, 54, 96, 37])"
      ]
     },
     "execution_count": 40,
     "metadata": {},
     "output_type": "execute_result"
    }
   ],
   "source": [
    "x_1"
   ]
  },
  {
   "cell_type": "code",
   "execution_count": 41,
   "id": "1b63630f-29b9-44c1-8ace-a4dc3faa3dc7",
   "metadata": {},
   "outputs": [
    {
     "data": {
      "text/plain": [
       "array([[95, 59, 63],\n",
       "       [28, 90, 32],\n",
       "       [ 5, 73, 68],\n",
       "       [63, 51, 87],\n",
       "       [48, 11, 59],\n",
       "       [46, 29, 34],\n",
       "       [19, 26, 97],\n",
       "       [59,  4, 51],\n",
       "       [76,  6, 49],\n",
       "       [54, 96, 37]])"
      ]
     },
     "execution_count": 41,
     "metadata": {},
     "output_type": "execute_result"
    }
   ],
   "source": [
    "x_2"
   ]
  },
  {
   "cell_type": "code",
   "execution_count": 42,
   "id": "850b52e6-2341-43ba-9c13-73c437432b18",
   "metadata": {},
   "outputs": [
    {
     "data": {
      "text/plain": [
       "array([[[95, 59, 63],\n",
       "        [28, 90, 32]],\n",
       "\n",
       "       [[ 5, 73, 68],\n",
       "        [63, 51, 87]],\n",
       "\n",
       "       [[48, 11, 59],\n",
       "        [46, 29, 34]],\n",
       "\n",
       "       [[19, 26, 97],\n",
       "        [59,  4, 51]],\n",
       "\n",
       "       [[76,  6, 49],\n",
       "        [54, 96, 37]]])"
      ]
     },
     "execution_count": 42,
     "metadata": {},
     "output_type": "execute_result"
    }
   ],
   "source": [
    "x_3  # there will be 5 ; 2 x3 arrays"
   ]
  },
  {
   "cell_type": "code",
   "execution_count": 55,
   "id": "0556fc2c-2ad7-4e41-aa1c-b2c2f11e1e70",
   "metadata": {},
   "outputs": [
    {
     "data": {
      "text/plain": [
       "array([335.44444, 225.33333, 222.4444 ])"
      ]
     },
     "execution_count": 55,
     "metadata": {},
     "output_type": "execute_result"
    }
   ],
   "source": [
    "x = np.array([335.44444,225.33333,222.4444])\n",
    "x"
   ]
  },
  {
   "cell_type": "code",
   "execution_count": 56,
   "id": "aa7eb4e0-08d0-4e7d-a6dc-0f3a5c4cc34d",
   "metadata": {},
   "outputs": [
    {
     "data": {
      "text/plain": [
       "array([335., 225., 222.])"
      ]
     },
     "execution_count": 56,
     "metadata": {},
     "output_type": "execute_result"
    }
   ],
   "source": [
    "np.round(x)"
   ]
  },
  {
   "cell_type": "code",
   "execution_count": 57,
   "id": "1b2daec5-b4a9-466d-9f00-2fb5e7de3a96",
   "metadata": {},
   "outputs": [
    {
     "data": {
      "text/plain": [
       "array([335.44, 225.33, 222.44])"
      ]
     },
     "execution_count": 57,
     "metadata": {},
     "output_type": "execute_result"
    }
   ],
   "source": [
    "np.round(x,2)"
   ]
  },
  {
   "cell_type": "code",
   "execution_count": 58,
   "id": "229adb7b-fcbb-47f9-a200-1edbefe74e89",
   "metadata": {},
   "outputs": [
    {
     "data": {
      "text/plain": [
       "array([ 45,  32, 323,  22,  22,  22,  45,  45, 333, 323, 222])"
      ]
     },
     "execution_count": 58,
     "metadata": {},
     "output_type": "execute_result"
    }
   ],
   "source": [
    "x5 = np.array([45,32,323,22,22,22,45,45,333,323,222])\n",
    "x5"
   ]
  },
  {
   "cell_type": "code",
   "execution_count": 59,
   "id": "2bbaec95-9615-4564-a95d-df9d8d9e6528",
   "metadata": {},
   "outputs": [
    {
     "data": {
      "text/plain": [
       "array([ 22,  32,  45, 222, 323, 333])"
      ]
     },
     "execution_count": 59,
     "metadata": {},
     "output_type": "execute_result"
    }
   ],
   "source": [
    "np.unique(x5)\n"
   ]
  },
  {
   "cell_type": "code",
   "execution_count": 60,
   "id": "4497d1ab-9088-4ecb-98a5-922c96133773",
   "metadata": {},
   "outputs": [
    {
     "data": {
      "text/plain": [
       "(array([ 22,  32,  45, 222, 323, 333]), array([3, 1, 3, 1, 2, 1], dtype=int64))"
      ]
     },
     "execution_count": 60,
     "metadata": {},
     "output_type": "execute_result"
    }
   ],
   "source": [
    "np.unique(x5, return_counts= True)\n"
   ]
  },
  {
   "cell_type": "markdown",
   "id": "7f65f8cd-4118-45d1-89e6-59c9d1561788",
   "metadata": {},
   "source": [
    "#### Random Numbers"
   ]
  },
  {
   "cell_type": "code",
   "execution_count": 61,
   "id": "eec6c15f-8d46-4525-998e-a6f629658f1b",
   "metadata": {},
   "outputs": [
    {
     "data": {
      "text/plain": [
       "24"
      ]
     },
     "execution_count": 61,
     "metadata": {},
     "output_type": "execute_result"
    }
   ],
   "source": [
    "np.random.randint(100)"
   ]
  },
  {
   "cell_type": "code",
   "execution_count": 62,
   "id": "d3bb35b4-ad2c-4842-9aa6-f13db017fe4b",
   "metadata": {},
   "outputs": [
    {
     "data": {
      "text/plain": [
       "8"
      ]
     },
     "execution_count": 62,
     "metadata": {},
     "output_type": "execute_result"
    }
   ],
   "source": [
    "np.random.seed(100)     ### any value between 0 to 2**32 -1 \n",
    "np.random.randint(100)"
   ]
  },
  {
   "cell_type": "code",
   "execution_count": 63,
   "id": "bf493c67-cbe6-486c-beb4-f8d0a5194de3",
   "metadata": {},
   "outputs": [
    {
     "data": {
      "text/plain": [
       "array([[380, 423, 459, 443],\n",
       "       [179, 494, 450, 454],\n",
       "       [153, 166, 326, 114],\n",
       "       [390, 340, 380, 243],\n",
       "       [328, 463, 416, 158],\n",
       "       [237, 193, 186, 486],\n",
       "       [255, 464, 488, 485],\n",
       "       [241, 345, 311, 200],\n",
       "       [104, 191, 423, 235],\n",
       "       [149, 293, 417, 370]])"
      ]
     },
     "execution_count": 63,
     "metadata": {},
     "output_type": "execute_result"
    }
   ],
   "source": [
    "np.random.randint(100,500,(10,4))"
   ]
  },
  {
   "cell_type": "code",
   "execution_count": 64,
   "id": "40c0e3ba-9c84-45d6-93dc-d72ae0d0d267",
   "metadata": {},
   "outputs": [
    {
     "data": {
      "text/plain": [
       "array([[[283, 351],\n",
       "        [436, 102],\n",
       "        [477, 205],\n",
       "        [163, 281]],\n",
       "\n",
       "       [[383, 412],\n",
       "        [338, 469],\n",
       "        [403, 267],\n",
       "        [465, 394]],\n",
       "\n",
       "       [[272, 374],\n",
       "        [292, 302],\n",
       "        [373, 172],\n",
       "        [113, 206]]])"
      ]
     },
     "execution_count": 64,
     "metadata": {},
     "output_type": "execute_result"
    }
   ],
   "source": [
    "np.random.randint(100,500,(3,4,2))"
   ]
  },
  {
   "cell_type": "code",
   "execution_count": 65,
   "id": "3846c50e-ba63-4138-b0e0-d7ce72486fa4",
   "metadata": {},
   "outputs": [
    {
     "data": {
      "text/plain": [
       "array([130, 117, 153, 168, 447, 281, 434, 100, 113, 285])"
      ]
     },
     "execution_count": 65,
     "metadata": {},
     "output_type": "execute_result"
    }
   ],
   "source": [
    "np.random.randint(100,500,10)"
   ]
  },
  {
   "cell_type": "code",
   "execution_count": 66,
   "id": "ccaae093-8a55-4023-8674-edd9315fc151",
   "metadata": {},
   "outputs": [
    {
     "data": {
      "text/plain": [
       "array([214.35827616, 440.95803514, 490.00259744, 453.9413174 ,\n",
       "       243.80313757, 339.54357835, 241.91824466, 236.07608615,\n",
       "       171.2323958 , 195.07768345])"
      ]
     },
     "execution_count": 66,
     "metadata": {},
     "output_type": "execute_result"
    }
   ],
   "source": [
    "y=np.random.uniform(100,500,10)\n",
    "y"
   ]
  },
  {
   "cell_type": "code",
   "execution_count": 67,
   "id": "0017816d",
   "metadata": {},
   "outputs": [
    {
     "data": {
      "text/plain": [
       "302.69113521265257"
      ]
     },
     "execution_count": 67,
     "metadata": {},
     "output_type": "execute_result"
    }
   ],
   "source": [
    "y.mean()"
   ]
  },
  {
   "cell_type": "code",
   "execution_count": 68,
   "id": "262f4611-d3f0-4055-9178-ae3bc2554fe6",
   "metadata": {},
   "outputs": [
    {
     "data": {
      "text/plain": [
       "array([[0., 0., 0., 0., 0.],\n",
       "       [0., 0., 0., 0., 0.],\n",
       "       [0., 0., 0., 0., 0.],\n",
       "       [0., 0., 0., 0., 0.]])"
      ]
     },
     "execution_count": 68,
     "metadata": {},
     "output_type": "execute_result"
    }
   ],
   "source": [
    "np.zeros([4,5])"
   ]
  },
  {
   "cell_type": "code",
   "execution_count": 69,
   "id": "5b41a4fd-3ae4-423c-8417-49b7d2752381",
   "metadata": {},
   "outputs": [
    {
     "data": {
      "text/plain": [
       "array([[1., 1., 1., 1., 1.],\n",
       "       [1., 1., 1., 1., 1.],\n",
       "       [1., 1., 1., 1., 1.],\n",
       "       [1., 1., 1., 1., 1.]])"
      ]
     },
     "execution_count": 69,
     "metadata": {},
     "output_type": "execute_result"
    }
   ],
   "source": [
    "np.ones([4,5])"
   ]
  },
  {
   "cell_type": "code",
   "execution_count": 70,
   "id": "42d4694e-5892-4c13-b447-9429cdec3117",
   "metadata": {},
   "outputs": [
    {
     "data": {
      "text/plain": [
       "array([ 6,  2, 10, 18, 13, 12,  1,  6, 10,  0])"
      ]
     },
     "execution_count": 70,
     "metadata": {},
     "output_type": "execute_result"
    }
   ],
   "source": [
    "p=np.random.randint(0,20,10)\n",
    "p"
   ]
  },
  {
   "cell_type": "code",
   "execution_count": 10,
   "id": "a49ec567-a9d3-4567-aa87-8d7d2ea54e37",
   "metadata": {},
   "outputs": [
    {
     "data": {
      "text/plain": [
       "26.49"
      ]
     },
     "execution_count": 10,
     "metadata": {},
     "output_type": "execute_result"
    }
   ],
   "source": [
    "p.var()"
   ]
  },
  {
   "cell_type": "code",
   "execution_count": 71,
   "id": "1dc60c8b-bb13-452e-ad7f-97dc2ece2a2f",
   "metadata": {},
   "outputs": [
    {
     "data": {
      "text/plain": [
       "5.528109984434101"
      ]
     },
     "execution_count": 71,
     "metadata": {},
     "output_type": "execute_result"
    }
   ],
   "source": [
    "p.std()"
   ]
  },
  {
   "cell_type": "code",
   "execution_count": 19,
   "id": "e130b466-ffcb-40a0-94bc-6802479bd83e",
   "metadata": {},
   "outputs": [
    {
     "data": {
      "text/plain": [
       "array([ 5,  7,  9, 11, 13, 15, 17, 19, 21, 23])"
      ]
     },
     "execution_count": 19,
     "metadata": {},
     "output_type": "execute_result"
    }
   ],
   "source": [
    "np.arange(5,25,2)"
   ]
  },
  {
   "cell_type": "code",
   "execution_count": 20,
   "id": "b24540a8-4d68-461d-9d17-fbdea515c503",
   "metadata": {},
   "outputs": [
    {
     "data": {
      "text/plain": [
       "array([[ 5,  7,  9, 11, 13],\n",
       "       [15, 17, 19, 21, 23]])"
      ]
     },
     "execution_count": 20,
     "metadata": {},
     "output_type": "execute_result"
    }
   ],
   "source": [
    "np.arange(5,25,2).reshape(2,5)"
   ]
  },
  {
   "cell_type": "code",
   "execution_count": 72,
   "id": "e1e109de-6d53-4c5f-a3e6-ea77955dcb9c",
   "metadata": {
    "scrolled": true
   },
   "outputs": [
    {
     "data": {
      "text/plain": [
       "array([[9, 9, 7, 3, 9],\n",
       "       [8, 3, 2, 6, 5]])"
      ]
     },
     "execution_count": 72,
     "metadata": {},
     "output_type": "execute_result"
    }
   ],
   "source": [
    "np.random.seed(2)\n",
    "x = np.random.randint(1,11,(2,5))\n",
    "x"
   ]
  },
  {
   "cell_type": "code",
   "execution_count": 73,
   "id": "b549f270-0e35-4c49-8bdb-620ff6b65536",
   "metadata": {},
   "outputs": [
    {
     "data": {
      "text/plain": [
       "array([[ 4,  7,  7,  1, 10],\n",
       "       [ 9,  5,  8,  1,  1]])"
      ]
     },
     "execution_count": 73,
     "metadata": {},
     "output_type": "execute_result"
    }
   ],
   "source": [
    "np.random.seed(5)\n",
    "y = np.random.randint(1,11,(2,5))\n",
    "y"
   ]
  },
  {
   "cell_type": "code",
   "execution_count": 25,
   "id": "b8e91d63-3a2e-4eff-81f0-05d6929228f3",
   "metadata": {},
   "outputs": [
    {
     "data": {
      "text/plain": [
       "array([[13, 16, 14,  4, 19],\n",
       "       [17,  8, 10,  7,  6]])"
      ]
     },
     "execution_count": 25,
     "metadata": {},
     "output_type": "execute_result"
    }
   ],
   "source": [
    "np.add(x,y)"
   ]
  },
  {
   "cell_type": "code",
   "execution_count": 27,
   "id": "89e06a0a-a743-4023-96e2-9bd5a7c91a53",
   "metadata": {},
   "outputs": [
    {
     "data": {
      "text/plain": [
       "array([[ 5,  2,  0,  2, -1],\n",
       "       [-1, -2, -6,  5,  4]])"
      ]
     },
     "execution_count": 27,
     "metadata": {},
     "output_type": "execute_result"
    }
   ],
   "source": [
    "np.subtract(x,y)"
   ]
  },
  {
   "cell_type": "code",
   "execution_count": 29,
   "id": "8250e33b-2ff4-4991-bb04-9188736ad3a9",
   "metadata": {},
   "outputs": [
    {
     "data": {
      "text/plain": [
       "array([[ 5, 10],\n",
       "       [ 7,  4],\n",
       "       [ 4,  8],\n",
       "       [ 8, 10],\n",
       "       [ 8,  9]])"
      ]
     },
     "execution_count": 29,
     "metadata": {},
     "output_type": "execute_result"
    }
   ],
   "source": [
    "np.random.seed(7)\n",
    "z = np.random.randint(1,11,(5,2))\n",
    "z"
   ]
  },
  {
   "cell_type": "code",
   "execution_count": 30,
   "id": "25d21cc2-1579-49ed-8ea3-d3748dcc50e4",
   "metadata": {},
   "outputs": [
    {
     "data": {
      "text/plain": [
       "array([[232, 293],\n",
       "       [157, 213]])"
      ]
     },
     "execution_count": 30,
     "metadata": {},
     "output_type": "execute_result"
    }
   ],
   "source": [
    "np.matmul(x,z)"
   ]
  },
  {
   "cell_type": "code",
   "execution_count": null,
   "id": "1b5528a4-e81b-4e50-822f-76dc292ff13d",
   "metadata": {},
   "outputs": [],
   "source": []
  }
 ],
 "metadata": {
  "kernelspec": {
   "display_name": "Python 3 (ipykernel)",
   "language": "python",
   "name": "python3"
  },
  "language_info": {
   "codemirror_mode": {
    "name": "ipython",
    "version": 3
   },
   "file_extension": ".py",
   "mimetype": "text/x-python",
   "name": "python",
   "nbconvert_exporter": "python",
   "pygments_lexer": "ipython3",
   "version": "3.10.8"
  }
 },
 "nbformat": 4,
 "nbformat_minor": 5
}
